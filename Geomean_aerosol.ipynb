{
 "cells": [
  {
   "cell_type": "code",
   "execution_count": 5,
   "id": "a38e3edd-0a73-41d3-9419-3494d62f2884",
   "metadata": {},
   "outputs": [
    {
     "name": "stdout",
     "output_type": "stream",
     "text": [
      "Line 150 content: Geo. Mean(nm)\t52.1516\n"
     ]
    }
   ],
   "source": [
    #Author: [Abigail McConnell]
#Date Created: 2023-02-25
#Last Modified: 2025-05-26
#Script Name: HO2_uptake_workup_automated_timings.py
#Description:
#    This script processes and analyses data from measuring HO2 uptake, using the automated timings injector (30 sm - 70 cm). 
#    After importing the data it averages the normalised HO2 signal plotting it against injector distance for both the forward 
#    and backward direction. The second box plots the ln(HO2) vs residence time inside the flowtube, fitting a linear regression 
#    and outputting the associated error. This is your pseudo first order rate for HO2 loss onto aerosols or the walls. 

#Requirements:
#    - pandas
#    - numpy
#    - matplotlib
    "# Python script to read a file and output the number value on line 150\n",
    "\n",
    "def read_file_line_150(file_path):\n",
    "    try:\n",
    "        with open(file_path, 'r') as file:\n",
    "            lines = file.readlines()\n",
    "            # Ensure the file has at least 150 lines\n",
    "            if len(lines) >= 150:\n",
    "                line_150 = lines[149]  # Line 150 (zero-indexed, so it's lines[149])\n",
    "                print(f\"Line 150 content: {line_150.strip()}\")\n",
    "            else:\n",
    "                print(\"The file does not contain 150 lines.\")\n",
    "    except FileNotFoundError:\n",
    "        print(f\"File not found: {file_path}\")\n",
    "    except Exception as e:\n",
    "        print(f\"An error occurred: {e}\")\n",
    "\n",
    "# Specify the path to your file\n",
    "file_path = 'ToAs_1Na.txt'\n",
    "read_file_line_150(file_path)"
   ]
  },
  {
   "cell_type": "code",
   "execution_count": 7,
   "id": "b4bd092c-572e-4799-9b3a-bdfdfb890ef4",
   "metadata": {},
   "outputs": [
    {
     "name": "stdout",
     "output_type": "stream",
     "text": [
      " 52.1516\n"
     ]
    }
   ],
   "source": [
    "# Geo mean (nm) in line 150 \n",
    "\n",
    "import re\n",
    "\n",
    "def read_file_line_150(file_path):\n",
    "    try:\n",
    "        with open(file_path, 'r') as file:\n",
    "            lines = file.readlines()\n",
    "            # Ensure the file has at least 150 lines\n",
    "            if len(lines) >= 150:\n",
    "                line_150 = lines[149].strip()  # Line 150 (zero-indexed)\n",
    "                # Use regular expression to extract the first number in the line\n",
    "                match = re.search(r\"[-+]?\\d*\\.?\\d+(?:[eE][-+]?\\d+)?\", line_150)\n",
    "                if match:\n",
    "                    number = match.group()\n",
    "                    print(f\" {number}\")\n",
    "                else:\n",
    "                    print(\"No number found on line 150.\")\n",
    "            else:\n",
    "                print(\"The file does not contain 150 lines.\")\n",
    "    except FileNotFoundError:\n",
    "        print(f\"File not found: {file_path}\")\n",
    "    except Exception as e:\n",
    "        print(f\"An error occurred: {e}\")\n",
    "\n",
    "# Specify the path to your file\n",
    "file_path = 'ToAs_1Na.txt'\n",
    "read_file_line_150(file_path)"
   ]
  },
  {
   "cell_type": "code",
   "execution_count": 9,
   "id": "0b0d7586-fb4a-4ca7-8dd5-fe4450efd85d",
   "metadata": {},
   "outputs": [
    {
     "name": "stdout",
     "output_type": "stream",
     "text": [
      "58.7513\n",
      "59.1589\n",
      "58.7513\n",
      "59.1589\n",
      "52.1516\n",
      "52.6082\n",
      "54.2392\n",
      "54.133\n",
      "18.4394\n",
      "16.6887\n",
      "56.6275\n",
      "56.3078\n",
      "57.1104\n",
      "56.8761\n",
      "27.9531\n",
      "22.5115\n",
      "55.8668\n",
      "59.1966\n",
      "58.0987\n",
      "57.7591\n"
     ]
    }
   ],
   "source": [
    "import re\n",
    "import os\n",
    "import glob\n",
    "\n",
    "def read_file_line_150(file_path):\n",
    "    try:\n",
    "        with open(file_path, 'r') as file:\n",
    "            lines = file.readlines()\n",
    "            # Ensure the file has at least 150 lines\n",
    "            if len(lines) >= 150:\n",
    "                line_150 = lines[149].strip()  # Line 150 (zero-indexed)\n",
    "                # Use regular expression to extract the first number in the line\n",
    "                match = re.search(r\"[-+]?\\d*\\.?\\d+(?:[eE][-+]?\\d+)?\", line_150)\n",
    "                if match:\n",
    "                    number = match.group()\n",
    "                    print(f\"{number}\")\n",
    "                else:\n",
    "                    print(f\"{os.path.basename(file_path)}: No number found on line 150.\")\n",
    "            else:\n",
    "                print(f\"{os.path.basename(file_path)}: The file does not contain 150 lines.\")\n",
    "    except FileNotFoundError:\n",
    "        print(f\"File not found: {file_path}\")\n",
    "    except Exception as e:\n",
    "        print(f\"An error occurred while processing {file_path}: {e}\")\n",
    "\n",
    "def process_files_with_pattern(directory, pattern):\n",
    "    # Use glob to find all files that match the pattern in the specified directory\n",
    "    file_paths = glob.glob(os.path.join(directory, pattern))\n",
    "    \n",
    "    # Process each file that matches the pattern\n",
    "    if file_paths:\n",
    "        for file_path in file_paths:\n",
    "            read_file_line_150(file_path)\n",
    "    else:\n",
    "        print(f\"No files found matching pattern: {pattern}\")\n",
    "\n",
    "# Specify the directory and file pattern\n",
    "directory = ''\n",
    "file_pattern = \"ToAs_*N*\"  # Pattern for files starting with \"ToAs\"\n",
    "\n",
    "# Process all files matching the pattern\n",
    "process_files_with_pattern(directory, file_pattern)"
   ]
  },
  {
   "cell_type": "code",
   "execution_count": 13,
   "id": "860da5d1-f761-42df-89ad-504f195e2c6e",
   "metadata": {},
   "outputs": [
    {
     "name": "stdout",
     "output_type": "stream",
     "text": [
      "ToAs_3Na.txt: Value 18.4394 filtered out (outside range 50-50000).\n",
      "ToAs_3Nb.txt: Value 16.6887 filtered out (outside range 50-50000).\n",
      "ToAs_6Na.txt: Value 27.9531 filtered out (outside range 50-50000).\n",
      "ToAs_6Nb.txt: Value 22.5115 filtered out (outside range 50-50000).\n",
      "\n",
      "Mean of values: 56.6747125\n",
      "Standard Deviation of values: 2.249130535861303\n"
     ]
    }
   ],
   "source": [
    "import re\n",
    "import os\n",
    "import glob\n",
    "import numpy as np\n",
    "\n",
    "def read_file_line_150(file_path):\n",
    "    try:\n",
    "        with open(file_path, 'r') as file:\n",
    "            lines = file.readlines()\n",
    "            # Ensure the file has at least 150 lines\n",
    "            if len(lines) >= 150:\n",
    "                line_150 = lines[149].strip()  # Line 150 (zero-indexed)\n",
    "                # Use regular expression to extract the first number in the line\n",
    "                match = re.search(r\"[-+]?\\d*\\.?\\d+(?:[eE][-+]?\\d+)?\", line_150)\n",
    "                if match:\n",
    "                    return float(match.group())  # Convert the extracted number to a float\n",
    "                else:\n",
    "                    print(f\"{os.path.basename(file_path)}: No number found on line 150.\")\n",
    "                    return None\n",
    "            else:\n",
    "                print(f\"{os.path.basename(file_path)}: The file does not contain 150 lines.\")\n",
    "                return None\n",
    "    except FileNotFoundError:\n",
    "        print(f\"File not found: {file_path}\")\n",
    "        return None\n",
    "    except Exception as e:\n",
    "        print(f\"An error occurred while processing {file_path}: {e}\")\n",
    "        return None\n",
    "\n",
    "def process_files_with_pattern(directory, pattern, min_value=None, max_value=None):\n",
    "    # Use glob to find all files that match the pattern in the specified directory\n",
    "    file_paths = glob.glob(os.path.join(directory, pattern))\n",
    "    values = []\n",
    "\n",
    "    # Process each file that matches the pattern and collect the values from line 150\n",
    "    if file_paths:\n",
    "        for file_path in file_paths:\n",
    "            result = read_file_line_150(file_path)\n",
    "            if result is not None:\n",
    "                # Filter out values that are outside the specified range\n",
    "                if (min_value is not None and result < min_value) or (max_value is not None and result > max_value):\n",
    "                    print(f\"{os.path.basename(file_path)}: Value {result} filtered out (outside range {min_value}-{max_value}).\")\n",
    "                else:\n",
    "                    values.append(result)\n",
    "\n",
    "        # If we have values, calculate mean and standard deviation\n",
    "        if values:\n",
    "            mean_value = np.mean(values)\n",
    "            std_dev = np.std(values)\n",
    "\n",
    "            print(f\"\\nMean of values: {mean_value}\")\n",
    "            print(f\"Standard Deviation of values: {std_dev}\")\n",
    "        else:\n",
    "            print(\"No valid numbers found to calculate mean and standard deviation.\")\n",
    "    else:\n",
    "        print(f\"No files found matching pattern: {pattern}\")\n",
    "\n",
    "# Specify the directory and file pattern\n",
    "directory =''\n",
    "file_pattern = \"ToAs_*N*\"  # Pattern for files starting with \"ToAs\"\n",
    "\n",
    "# Specify the range for filtering (modify as needed)\n",
    "min_value = 50  # Minimum acceptable value\n",
    "max_value = 50000  # Maximum acceptable value\n",
    "\n",
    "# Process all files matching the pattern and calculate mean and standard deviation\n",
    "process_files_with_pattern(directory, file_pattern, min_value, max_value)"
   ]
  },
  {
   "cell_type": "code",
   "execution_count": null,
   "id": "e11d3fd2-449e-4118-b20d-c8f45be55653",
   "metadata": {},
   "outputs": [],
   "source": []
  }
 ],
 "metadata": {
  "kernelspec": {
   "display_name": "Python 3 (ipykernel)",
   "language": "python",
   "name": "python3"
  },
  "language_info": {
   "codemirror_mode": {
    "name": "ipython",
    "version": 3
   },
   "file_extension": ".py",
   "mimetype": "text/x-python",
   "name": "python",
   "nbconvert_exporter": "python",
   "pygments_lexer": "ipython3",
   "version": "3.11.7"
  }
 },
 "nbformat": 4,
 "nbformat_minor": 5
}
